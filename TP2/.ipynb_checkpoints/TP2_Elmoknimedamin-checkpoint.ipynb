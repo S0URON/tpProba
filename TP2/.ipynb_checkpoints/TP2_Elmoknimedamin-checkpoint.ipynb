{
 "cells": [
  {
   "cell_type": "markdown",
   "metadata": {},
   "source": [
    "# Simulation du jeux de LIDO simplifié"
   ]
  },
  {
   "cell_type": "markdown",
   "metadata": {},
   "source": [
    "# el mokni medamin 2lm3\n",
    "## Principe\n",
    "On considére un jeux de Lido simple:\n",
    "on dispose d'un un seul pion.\n",
    "\n",
    "- Etape 0 :\n",
    "Le pion doit sort de sa prison lorsqu'on obtient un 6.\n",
    "\n",
    "- Etape 1 :\n",
    "Le pion doit atteindre exactement une position cible situé à N pas de distance de sa prison \n",
    "\n",
    "Soit $X_n$ la variable aléatoire qui represente le nombre de coup nécéssaire pour atteindre la positions cible.\n",
    "\n",
    "**Objectif 1** : Simuler le jeux \n",
    "\n",
    "**Objectif 2** : Calculer une estimation de l'éspérance mathématique de $X_n$ en utilisant `python`\n",
    "\n",
    "**Objéctif 3** : Observer la variation de $\\mathbb{E}(X_n)$ en fonction de $n$\n",
    "\n",
    "<img src=\"LIDO.png\">\n"
   ]
  },
  {
   "cell_type": "code",
   "execution_count": 1,
   "metadata": {},
   "outputs": [],
   "source": [
    "import numpy as np"
   ]
  },
  {
   "cell_type": "markdown",
   "metadata": {},
   "source": [
    "### Simulation du lancé de dé"
   ]
  },
  {
   "cell_type": "code",
   "execution_count": 2,
   "metadata": {},
   "outputs": [],
   "source": [
    "#ceci est la fonction qui simule le lancé du dé\n",
    "def Roll():\n",
    "    return int(np.random.choice(range(1,7),1))"
   ]
  },
  {
   "cell_type": "code",
   "execution_count": 3,
   "metadata": {},
   "outputs": [
    {
     "data": {
      "text/plain": [
       "3"
      ]
     },
     "execution_count": 3,
     "metadata": {},
     "output_type": "execute_result"
    }
   ],
   "source": [
    "Roll()"
   ]
  },
  {
   "cell_type": "markdown",
   "metadata": {},
   "source": [
    "### Compléter le code et commenter"
   ]
  },
  {
   "cell_type": "code",
   "execution_count": 24,
   "metadata": {
    "scrolled": false
   },
   "outputs": [
    {
     "name": "stdout",
     "output_type": "stream",
     "text": [
      "Sorties apres 1 coups\n",
      "2 1 1\n",
      "3 1 2\n",
      "4 6 8\n",
      "5 1 9\n",
      "6 5 9\n",
      "7 5 9\n",
      "8 2 9\n",
      "9 3 9\n",
      "10 2 9\n",
      "11 2 9\n",
      "12 1 10\n"
     ]
    }
   ],
   "source": [
    "#affichage du nombre de coup pour obtenir le premier 6\n",
    "A=0\n",
    "NA=0\n",
    "S=10\n",
    "c=0\n",
    "temp = Roll()\n",
    "NA+=1\n",
    "while (temp!=6):\n",
    "    temp=Roll()\n",
    "    NA+=1\n",
    "    print(NA, temp)\n",
    "print(\"Sorties apres {} coups\".format(NA))\n",
    "#nombre de coup necessaire pour obtenir exactement 10 \n",
    "while(A != S):\n",
    "    temp=Roll()\n",
    "    if temp+A < S:\n",
    "        A+=temp\n",
    "        NA+=1\n",
    "        print(NA, temp, A)\n",
    "    elif temp+A > S:\n",
    "        NA+=1\n",
    "        print(NA, temp, A)\n",
    "    else:\n",
    "        A=S\n",
    "        NA+=1\n",
    "        print(NA, temp, A)\n"
   ]
  },
  {
   "cell_type": "markdown",
   "metadata": {},
   "source": [
    "### Simulation\n",
    "Ecrire une foction `sim` qui simule le jeux et qui prend comme variable le nombre de pas $n$ nécessaire pour atteindre la cible"
   ]
  },
  {
   "cell_type": "code",
   "execution_count": 23,
   "metadata": {},
   "outputs": [],
   "source": [
    "def sim(S):\n",
    "    A=0\n",
    "    NA=0\n",
    "    c=0\n",
    "    temp = Roll()\n",
    "    NA+=1\n",
    "    while (temp!=6):\n",
    "        temp=Roll()\n",
    "        NA+=1\n",
    "        #print(NA, temp)\n",
    "    #print(\"Sorties apres {} coups\".format(NA))\n",
    "    \n",
    "    while(A != S):\n",
    "        temp=Roll()\n",
    "        NA+=1\n",
    "        if temp+A < S:\n",
    "            A+=temp\n",
    "            #NA+=1\n",
    "            #print(NA, temp, A)\n",
    "        elif temp+A > S:\n",
    "            #NA+=1\n",
    "            #print(NA, temp, A)\n",
    "            continue\n",
    "        else:\n",
    "            A=S\n",
    "            #NA+=1\n",
    "            #print(NA, temp, A)\n",
    "    return NA#nombre de coup necessaire pour terminer le jeu\n",
    "    "
   ]
  },
  {
   "cell_type": "code",
   "execution_count": null,
   "metadata": {},
   "outputs": [],
   "source": [
    "#simulation 50000 fois\n",
    "L = [sim(30) for i in range(50000)]\n",
    "#calcul de la moyenne\n",
    "Moy=sum(L)/50000\n",
    "print(\"estimation de la moyenne de X_30 {}\".format(Moy))"
   ]
  },
  {
   "cell_type": "markdown",
   "metadata": {},
   "source": [
    "X~B(n,p) -> E(X) = np"
   ]
  },
  {
   "cell_type": "code",
   "execution_count": 7,
   "metadata": {},
   "outputs": [
    {
     "name": "stdout",
     "output_type": "stream",
     "text": [
      "[13.498, 13.8853, 14.0659, 14.5586, 14.7512, 15.1656, 15.1556, 15.5935, 15.9659, 16.2304]\n"
     ]
    }
   ],
   "source": [
    "#on simule le jeu pour n entre 10 et 20 puis on calcule la moyenne de chaque simulation et on met le resultat dans le tableau y\n",
    "x=list(range(10,20))\n",
    "y=[sum([sim(u) for i in range(10000)])/10000 for u in x]\n",
    "print(y)"
   ]
  },
  {
   "cell_type": "code",
   "execution_count": 8,
   "metadata": {},
   "outputs": [],
   "source": [
    "import matplotlib.pyplot as plt"
   ]
  },
  {
   "cell_type": "code",
   "execution_count": 9,
   "metadata": {},
   "outputs": [
    {
     "data": {
      "image/png": "[encoded data removed]",
      "text/plain": [
       "<Figure size 432x288 with 1 Axes>"
      ]
     },
     "metadata": {
      "needs_background": "light"
     },
     "output_type": "display_data"
    }
   ],
   "source": [
    "#on represente les resultats obtenu dans une courbe\n",
    "plt.plot(x, y, \"b*\")\n",
    "plt.show()"
   ]
  },
  {
   "cell_type": "code",
   "execution_count": 10,
   "metadata": {},
   "outputs": [],
   "source": [
    "from scipy import stats\n",
    "import numpy as np\n",
    "slope, intercept, r_value, p_value, std_err = stats.linregress(x,y)"
   ]
  },
  {
   "cell_type": "code",
   "execution_count": 11,
   "metadata": {},
   "outputs": [
    {
     "data": {
      "text/plain": [
       "0.29696484848484855"
      ]
     },
     "execution_count": 11,
     "metadata": {},
     "output_type": "execute_result"
    }
   ],
   "source": [
    "slope #a la pente"
   ]
  },
  {
   "cell_type": "code",
   "execution_count": 12,
   "metadata": {},
   "outputs": [
    {
     "data": {
      "text/plain": [
       "10.581009696969696"
      ]
     },
     "execution_count": 12,
     "metadata": {},
     "output_type": "execute_result"
    }
   ],
   "source": [
    "intercept #b l ordonne a l'origine "
   ]
  },
  {
   "cell_type": "code",
   "execution_count": 20,
   "metadata": {},
   "outputs": [],
   "source": [
    "yy=[slope*u+intercept for u in x]"
   ]
  },
  {
   "cell_type": "code",
   "execution_count": 21,
   "metadata": {},
   "outputs": [
    {
     "data": {
      "image/png": "[encoded data removed]",
      "text/plain": [
       "<Figure size 432x288 with 1 Axes>"
      ]
     },
     "metadata": {
      "needs_background": "light"
     },
     "output_type": "display_data"
    }
   ],
   "source": [
    "plt.plot(x, y, \"b*\", x, yy, 'r-')\n",
    "plt.show()"
   ]
  },
  {
   "cell_type": "markdown",
   "metadata": {},
   "source": [
    "### conclusion\n",
    "Aprés l'analyse des courbes et des valeurs obtenu suite à la simulation, on peut conclure que l'éspérance mathématique du jeu Ludo est une fonction linéaire de forme:\n",
    " \n",
    "***E($X_n$) ~= 0.289 * n + 10.703***"
   ]
  }
 ],
 "metadata": {
  "kernelspec": {
   "display_name": "Python 3",
   "language": "python",
   "name": "python3"
  },
  "language_info": {
   "codemirror_mode": {
    "name": "ipython",
    "version": 3
   },
   "file_extension": ".py",
   "mimetype": "text/x-python",
   "name": "python",
   "nbconvert_exporter": "python",
   "pygments_lexer": "ipython3",
   "version": "3.8.8"
  }
 },
 "nbformat": 4,
 "nbformat_minor": 4
}
